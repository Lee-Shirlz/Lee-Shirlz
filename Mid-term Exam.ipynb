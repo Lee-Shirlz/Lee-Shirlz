{
 "cells": [
  {
   "cell_type": "markdown",
   "id": "59be04b9",
   "metadata": {},
   "source": [
    "# Question 1:  Stock Analysis Using Python"
   ]
  },
  {
   "cell_type": "code",
   "execution_count": 92,
   "id": "7262eeb6",
   "metadata": {},
   "outputs": [
    {
     "name": "stdout",
     "output_type": "stream",
     "text": [
      "[*********************100%%**********************]  1 of 1 completed\n",
      "                 Open       High        Low      Close  Adj Close     Volume\n",
      "Date                                                                        \n",
      "2015-01-01  46.660000  47.910000  40.349998  40.400002  35.021561  918966800\n",
      "2015-02-01  40.590000  44.299999  40.230000  43.849998  38.012253  656509700\n",
      "2015-03-01  43.669998  44.189999  40.540001  40.660000  35.497780  824335300\n",
      "2015-04-01  40.599998  49.540001  40.119999  48.639999  42.464626  874535300\n",
      "2015-05-01  48.580002  48.910000  46.020000  46.860001  40.910622  633072800\n"
     ]
    }
   ],
   "source": [
    "# Import Required Packages \n",
    "\n",
    "import yfinance as yf\n",
    "\n",
    "# Specify the stock symbol and date range\n",
    "stock_symbol = \"MSFT\"\n",
    "start_date = \"2015-01-01\"\n",
    "end_date = \"2019-12-31\"\n",
    "\n",
    "# Download the stock data\n",
    "msft_data = yf.download(stock_symbol, start=start_date, end=end_date, interval=\"1mo\")\n",
    "\n",
    "# Display the first few rows of the data\n",
    "print(msft_data.head())\n"
   ]
  },
  {
   "cell_type": "code",
   "execution_count": 93,
   "id": "efd66551",
   "metadata": {},
   "outputs": [
    {
     "name": "stdout",
     "output_type": "stream",
     "text": [
      "[*********************100%%**********************]  1 of 1 completed\n",
      "Date\n",
      "2015-01-02         NaN\n",
      "2015-01-05   -0.009239\n",
      "2015-01-06   -0.014786\n",
      "2015-01-07    0.012625\n",
      "2015-01-08    0.028994\n",
      "Name: Log_Return, dtype: float64\n"
     ]
    }
   ],
   "source": [
    "\n",
    "# Retrieve historical data using yfinance\n",
    "msft_data = yf.download(msft_ticker, start=start_date, end=end_date)\n",
    "\n",
    "\n",
    "# Compute log returns\n",
    "msft_data['Log_Return'] = np.log(msft_data['Adj Close'] / msft_data['Adj Close'].shift(1))\n",
    "\n",
    "\n",
    "# Compute log returns\n",
    "\n",
    "print(msft_data['Log_Return'].head())"
   ]
  },
  {
   "cell_type": "code",
   "execution_count": 97,
   "id": "e8ac17b8",
   "metadata": {},
   "outputs": [
    {
     "name": "stdout",
     "output_type": "stream",
     "text": [
      "Average Log Return: 0.10532025867199034\n",
      "Annualized Return: 30.377954184860023\n"
     ]
    }
   ],
   "source": [
    "# Compute log returns\n",
    "msft_data['Log_Return'] = np.log(msft_data['Adj Close'] / msft_data['Adj Close'].shift(1))\n",
    "\n",
    "# Calculate annualized return\n",
    "average_log_return = np.mean(msft_data['Log_Return'])\n",
    "annualized_return = (1 + average_log_return) ** 252 - 1  # Assuming daily returns, adjust 252 for other frequencies\n",
    "\n",
    "# Print the results\n",
    "print(f\"Average Log Return: {average_log_return*100}\")\n",
    "print(f\"Annualized Return: {annualized_return*100}\")"
   ]
  },
  {
   "cell_type": "code",
   "execution_count": 95,
   "id": "6dd5d50f",
   "metadata": {},
   "outputs": [
    {
     "name": "stdout",
     "output_type": "stream",
     "text": [
      "Annualized Volatility: 23.25861540614136\n"
     ]
    }
   ],
   "source": [
    "# Calculate annualized volatility\n",
    "volatility = np.std(msft_data['Log_Return']) * np.sqrt(252)  # Assuming daily returns, adjust 252 for other frequencies\n",
    "\n",
    "# Print the results\n",
    "print(f\"Annualized Volatility: {volatility*100}\")"
   ]
  },
  {
   "cell_type": "code",
   "execution_count": 40,
   "id": "146a9080",
   "metadata": {},
   "outputs": [
    {
     "name": "stdout",
     "output_type": "stream",
     "text": [
      "Requirement already satisfied: yesg in /Users/anaconda3/lib/python3.11/site-packages (2.1.1)\n",
      "Note: you may need to restart the kernel to use updated packages.\n"
     ]
    }
   ],
   "source": [
    "pip install yesg"
   ]
  },
  {
   "cell_type": "code",
   "execution_count": 41,
   "id": "e53d5ce1",
   "metadata": {},
   "outputs": [],
   "source": [
    "import yesg\n",
    "\n",
    "# change timeframe here!!! "
   ]
  },
  {
   "cell_type": "code",
   "execution_count": 48,
   "id": "c2cb4ff0",
   "metadata": {},
   "outputs": [
    {
     "data": {
      "text/html": [
       "<div>\n",
       "<style scoped>\n",
       "    .dataframe tbody tr th:only-of-type {\n",
       "        vertical-align: middle;\n",
       "    }\n",
       "\n",
       "    .dataframe tbody tr th {\n",
       "        vertical-align: top;\n",
       "    }\n",
       "\n",
       "    .dataframe thead th {\n",
       "        text-align: right;\n",
       "    }\n",
       "</style>\n",
       "<table border=\"1\" class=\"dataframe\">\n",
       "  <thead>\n",
       "    <tr style=\"text-align: right;\">\n",
       "      <th></th>\n",
       "      <th>Total-Score</th>\n",
       "      <th>E-Score</th>\n",
       "      <th>S-Score</th>\n",
       "      <th>G-Score</th>\n",
       "    </tr>\n",
       "    <tr>\n",
       "      <th>Date</th>\n",
       "      <th></th>\n",
       "      <th></th>\n",
       "      <th></th>\n",
       "      <th></th>\n",
       "    </tr>\n",
       "  </thead>\n",
       "  <tbody>\n",
       "    <tr>\n",
       "      <th>2014-09-01</th>\n",
       "      <td>66.00</td>\n",
       "      <td>78.00</td>\n",
       "      <td>59.00</td>\n",
       "      <td>63.00</td>\n",
       "    </tr>\n",
       "    <tr>\n",
       "      <th>2014-10-01</th>\n",
       "      <td>66.00</td>\n",
       "      <td>78.00</td>\n",
       "      <td>59.00</td>\n",
       "      <td>63.00</td>\n",
       "    </tr>\n",
       "    <tr>\n",
       "      <th>2014-11-01</th>\n",
       "      <td>66.00</td>\n",
       "      <td>78.00</td>\n",
       "      <td>59.00</td>\n",
       "      <td>63.00</td>\n",
       "    </tr>\n",
       "    <tr>\n",
       "      <th>2014-12-01</th>\n",
       "      <td>66.00</td>\n",
       "      <td>78.00</td>\n",
       "      <td>59.00</td>\n",
       "      <td>63.00</td>\n",
       "    </tr>\n",
       "    <tr>\n",
       "      <th>2015-01-01</th>\n",
       "      <td>66.00</td>\n",
       "      <td>78.00</td>\n",
       "      <td>59.00</td>\n",
       "      <td>63.00</td>\n",
       "    </tr>\n",
       "    <tr>\n",
       "      <th>...</th>\n",
       "      <td>...</td>\n",
       "      <td>...</td>\n",
       "      <td>...</td>\n",
       "      <td>...</td>\n",
       "    </tr>\n",
       "    <tr>\n",
       "      <th>2022-04-01</th>\n",
       "      <td>NaN</td>\n",
       "      <td>NaN</td>\n",
       "      <td>NaN</td>\n",
       "      <td>NaN</td>\n",
       "    </tr>\n",
       "    <tr>\n",
       "      <th>2022-05-01</th>\n",
       "      <td>13.75</td>\n",
       "      <td>0.46</td>\n",
       "      <td>8.06</td>\n",
       "      <td>5.23</td>\n",
       "    </tr>\n",
       "    <tr>\n",
       "      <th>2022-06-01</th>\n",
       "      <td>NaN</td>\n",
       "      <td>NaN</td>\n",
       "      <td>NaN</td>\n",
       "      <td>NaN</td>\n",
       "    </tr>\n",
       "    <tr>\n",
       "      <th>2022-07-01</th>\n",
       "      <td>NaN</td>\n",
       "      <td>NaN</td>\n",
       "      <td>NaN</td>\n",
       "      <td>NaN</td>\n",
       "    </tr>\n",
       "    <tr>\n",
       "      <th>2022-08-01</th>\n",
       "      <td>15.24</td>\n",
       "      <td>1.53</td>\n",
       "      <td>8.39</td>\n",
       "      <td>5.33</td>\n",
       "    </tr>\n",
       "  </tbody>\n",
       "</table>\n",
       "<p>96 rows × 4 columns</p>\n",
       "</div>"
      ],
      "text/plain": [
       "            Total-Score  E-Score  S-Score  G-Score\n",
       "Date                                              \n",
       "2014-09-01        66.00    78.00    59.00    63.00\n",
       "2014-10-01        66.00    78.00    59.00    63.00\n",
       "2014-11-01        66.00    78.00    59.00    63.00\n",
       "2014-12-01        66.00    78.00    59.00    63.00\n",
       "2015-01-01        66.00    78.00    59.00    63.00\n",
       "...                 ...      ...      ...      ...\n",
       "2022-04-01          NaN      NaN      NaN      NaN\n",
       "2022-05-01        13.75     0.46     8.06     5.23\n",
       "2022-06-01          NaN      NaN      NaN      NaN\n",
       "2022-07-01          NaN      NaN      NaN      NaN\n",
       "2022-08-01        15.24     1.53     8.39     5.33\n",
       "\n",
       "[96 rows x 4 columns]"
      ]
     },
     "execution_count": 48,
     "metadata": {},
     "output_type": "execute_result"
    }
   ],
   "source": [
    "ESG = yesg.get_historic_esg('MSFT')\n",
    "ESG"
   ]
  },
  {
   "cell_type": "code",
   "execution_count": 43,
   "id": "2092729e",
   "metadata": {},
   "outputs": [
    {
     "name": "stderr",
     "output_type": "stream",
     "text": [
      "UserWarning: Pandas doesn't allow columns to be created via a new attribute name - see https://pandas.pydata.org/pandas-docs/stable/indexing.html#attribute-access\n"
     ]
    },
    {
     "data": {
      "text/html": [
       "<div>\n",
       "<style scoped>\n",
       "    .dataframe tbody tr th:only-of-type {\n",
       "        vertical-align: middle;\n",
       "    }\n",
       "\n",
       "    .dataframe tbody tr th {\n",
       "        vertical-align: top;\n",
       "    }\n",
       "\n",
       "    .dataframe thead th {\n",
       "        text-align: right;\n",
       "    }\n",
       "</style>\n",
       "<table border=\"1\" class=\"dataframe\">\n",
       "  <thead>\n",
       "    <tr style=\"text-align: right;\">\n",
       "      <th></th>\n",
       "      <th>Total-Score</th>\n",
       "      <th>E-Score</th>\n",
       "      <th>S-Score</th>\n",
       "      <th>G-Score</th>\n",
       "    </tr>\n",
       "    <tr>\n",
       "      <th>Date</th>\n",
       "      <th></th>\n",
       "      <th></th>\n",
       "      <th></th>\n",
       "      <th></th>\n",
       "    </tr>\n",
       "  </thead>\n",
       "  <tbody>\n",
       "    <tr>\n",
       "      <th>2014-09-01</th>\n",
       "      <td>66.00</td>\n",
       "      <td>78.00</td>\n",
       "      <td>59.00</td>\n",
       "      <td>63.00</td>\n",
       "    </tr>\n",
       "    <tr>\n",
       "      <th>2014-10-01</th>\n",
       "      <td>66.00</td>\n",
       "      <td>78.00</td>\n",
       "      <td>59.00</td>\n",
       "      <td>63.00</td>\n",
       "    </tr>\n",
       "    <tr>\n",
       "      <th>2014-11-01</th>\n",
       "      <td>66.00</td>\n",
       "      <td>78.00</td>\n",
       "      <td>59.00</td>\n",
       "      <td>63.00</td>\n",
       "    </tr>\n",
       "    <tr>\n",
       "      <th>2014-12-01</th>\n",
       "      <td>66.00</td>\n",
       "      <td>78.00</td>\n",
       "      <td>59.00</td>\n",
       "      <td>63.00</td>\n",
       "    </tr>\n",
       "    <tr>\n",
       "      <th>2015-01-01</th>\n",
       "      <td>66.00</td>\n",
       "      <td>78.00</td>\n",
       "      <td>59.00</td>\n",
       "      <td>63.00</td>\n",
       "    </tr>\n",
       "    <tr>\n",
       "      <th>...</th>\n",
       "      <td>...</td>\n",
       "      <td>...</td>\n",
       "      <td>...</td>\n",
       "      <td>...</td>\n",
       "    </tr>\n",
       "    <tr>\n",
       "      <th>2021-05-01</th>\n",
       "      <td>14.63</td>\n",
       "      <td>0.42</td>\n",
       "      <td>9.37</td>\n",
       "      <td>4.83</td>\n",
       "    </tr>\n",
       "    <tr>\n",
       "      <th>2021-09-01</th>\n",
       "      <td>13.26</td>\n",
       "      <td>0.46</td>\n",
       "      <td>8.06</td>\n",
       "      <td>4.73</td>\n",
       "    </tr>\n",
       "    <tr>\n",
       "      <th>2022-02-01</th>\n",
       "      <td>13.26</td>\n",
       "      <td>0.46</td>\n",
       "      <td>8.06</td>\n",
       "      <td>4.73</td>\n",
       "    </tr>\n",
       "    <tr>\n",
       "      <th>2022-05-01</th>\n",
       "      <td>13.75</td>\n",
       "      <td>0.46</td>\n",
       "      <td>8.06</td>\n",
       "      <td>5.23</td>\n",
       "    </tr>\n",
       "    <tr>\n",
       "      <th>2022-08-01</th>\n",
       "      <td>15.24</td>\n",
       "      <td>1.53</td>\n",
       "      <td>8.39</td>\n",
       "      <td>5.33</td>\n",
       "    </tr>\n",
       "  </tbody>\n",
       "</table>\n",
       "<p>78 rows × 4 columns</p>\n",
       "</div>"
      ],
      "text/plain": [
       "            Total-Score  E-Score  S-Score  G-Score\n",
       "Date                                              \n",
       "2014-09-01        66.00    78.00    59.00    63.00\n",
       "2014-10-01        66.00    78.00    59.00    63.00\n",
       "2014-11-01        66.00    78.00    59.00    63.00\n",
       "2014-12-01        66.00    78.00    59.00    63.00\n",
       "2015-01-01        66.00    78.00    59.00    63.00\n",
       "...                 ...      ...      ...      ...\n",
       "2021-05-01        14.63     0.42     9.37     4.83\n",
       "2021-09-01        13.26     0.46     8.06     4.73\n",
       "2022-02-01        13.26     0.46     8.06     4.73\n",
       "2022-05-01        13.75     0.46     8.06     5.23\n",
       "2022-08-01        15.24     1.53     8.39     5.33\n",
       "\n",
       "[78 rows x 4 columns]"
      ]
     },
     "execution_count": 43,
     "metadata": {},
     "output_type": "execute_result"
    }
   ],
   "source": [
    "ESG.new = pd.DataFrame.dropna(ESG)\n",
    "ESG.new"
   ]
  },
  {
   "cell_type": "code",
   "execution_count": 108,
   "id": "6b4cb2ef",
   "metadata": {},
   "outputs": [
    {
     "data": {
      "text/plain": [
       "Text(0.5, 1.0, 'ESG Score for Microsoft Inc.')"
      ]
     },
     "execution_count": 108,
     "metadata": {},
     "output_type": "execute_result"
    },
    {
     "data": {
      "image/png": "[encoded data removed]",
      "text/plain": [
       "<Figure size 1200x600 with 1 Axes>"
      ]
     },
     "metadata": {},
     "output_type": "display_data"
    }
   ],
   "source": [
    "ESG.plot(figsize=(12, 6))\n",
    "plt.xlabel('Time')\n",
    "plt.ylabel('score')\n",
    "plt.title('ESG Score for Microsoft Inc.')"
   ]
  },
  {
   "cell_type": "markdown",
   "id": "91dc7c3f",
   "metadata": {},
   "source": [
    "# Question 2: Climate Analysis for Birthplace "
   ]
  },
  {
   "cell_type": "code",
   "execution_count": 155,
   "id": "3c5576e9",
   "metadata": {},
   "outputs": [],
   "source": [
    "# Import Required Packages \n",
    "\n",
    "import numpy as np\n",
    "from datetime import datetime\n",
    "import matplotlib.pyplot as plt\n",
    "from meteostat import Point, Daily\n",
    "\n"
   ]
  },
  {
   "cell_type": "code",
   "execution_count": 156,
   "id": "d54adf72",
   "metadata": {},
   "outputs": [],
   "source": [
    "#Specify Timeframe for CDD --> January - March for Southern Hermisphere \n",
    "start = datetime(2022, 1, 1)\n",
    "end = datetime(2022, 3, 31)"
   ]
  },
  {
   "cell_type": "code",
   "execution_count": 157,
   "id": "cd19b974",
   "metadata": {},
   "outputs": [],
   "source": [
    "# Specify location using co-ordinates for Johannesburg \n",
    "\n",
    "location = Point(-26.2041, 28.0473, 1694)"
   ]
  },
  {
   "cell_type": "code",
   "execution_count": 158,
   "id": "0fa26faa",
   "metadata": {},
   "outputs": [],
   "source": [
    "# Extract data for specified time period \n",
    "\n",
    "data = Daily(location, start, end)\n",
    "data = data.fetch()"
   ]
  },
  {
   "cell_type": "code",
   "execution_count": 159,
   "id": "0809996a",
   "metadata": {},
   "outputs": [],
   "source": [
    "# Specify base temparature and formula for CDD \n",
    "\n",
    "T_base = 18\n",
    "cdds = [max(temp - T_base, 0) for temp in data.tavg]"
   ]
  },
  {
   "cell_type": "code",
   "execution_count": 160,
   "id": "1dbcfb7f",
   "metadata": {},
   "outputs": [],
   "source": [
    "# Calculative the Total CDD over the specified timeframe \n",
    "\n",
    "total_cdd = sum(cdds)\n"
   ]
  },
  {
   "cell_type": "code",
   "execution_count": 161,
   "id": "b1f3d6c3",
   "metadata": {},
   "outputs": [
    {
     "name": "stdout",
     "output_type": "stream",
     "text": [
      "Total CDD: 81.60000000000001\n"
     ]
    }
   ],
   "source": [
    "print(\"Total CDD:\", total_cdd)\n"
   ]
  },
  {
   "cell_type": "code",
   "execution_count": 162,
   "id": "14a9ef17",
   "metadata": {},
   "outputs": [],
   "source": [
    "#Specify Timeframe for CDD --> October to December in Southern Hermisphere \n",
    "start = datetime(2022, 10, 1)\n",
    "end = datetime(2022, 12, 31)"
   ]
  },
  {
   "cell_type": "code",
   "execution_count": 163,
   "id": "1129b0a9",
   "metadata": {},
   "outputs": [],
   "source": [
    "# Specify location using co-ordinates for Johannesburg \n",
    "\n",
    "location = Point(-26.2041, 28.0473, 1694)"
   ]
  },
  {
   "cell_type": "code",
   "execution_count": 164,
   "id": "981bd0b3",
   "metadata": {},
   "outputs": [],
   "source": [
    "# Extract data for specified time period \n",
    "\n",
    "data = Daily(location, start, end)\n",
    "data = data.fetch()"
   ]
  },
  {
   "cell_type": "code",
   "execution_count": 165,
   "id": "18aca90e",
   "metadata": {},
   "outputs": [],
   "source": [
    "# Calculative the Total CDD over the specified timeframe \n",
    "\n",
    "total_cdd = sum(cdds)\n"
   ]
  },
  {
   "cell_type": "code",
   "execution_count": 166,
   "id": "37c3e6d9",
   "metadata": {},
   "outputs": [
    {
     "name": "stdout",
     "output_type": "stream",
     "text": [
      "Total CDD: 81.60000000000001\n"
     ]
    }
   ],
   "source": [
    "print(\"Total CDD:\", total_cdd)"
   ]
  },
  {
   "cell_type": "code",
   "execution_count": 167,
   "id": "de4296ed",
   "metadata": {},
   "outputs": [],
   "source": [
    "#Specify Timeframe for HDD --> April to Spetember in Southern Hemisphere\n",
    "start = datetime(2022, 4, 1)\n",
    "end = datetime(2022, 9, 30)"
   ]
  },
  {
   "cell_type": "code",
   "execution_count": 168,
   "id": "56ed5d5f",
   "metadata": {},
   "outputs": [],
   "source": [
    "# Specify location using co-ordinates for Johannesburg \n",
    "\n",
    "location = Point(-26.2041, 28.0473, 1694)"
   ]
  },
  {
   "cell_type": "code",
   "execution_count": 169,
   "id": "dffeb6c1",
   "metadata": {},
   "outputs": [],
   "source": [
    "# Extract data for specified time period \n",
    "\n",
    "data = Daily(location, start, end)\n",
    "data = data.fetch()"
   ]
  },
  {
   "cell_type": "code",
   "execution_count": 170,
   "id": "66b6729e",
   "metadata": {},
   "outputs": [],
   "source": [
    "\n",
    "total_hdd = sum(hdds)\n"
   ]
  },
  {
   "cell_type": "code",
   "execution_count": 171,
   "id": "6427f421",
   "metadata": {},
   "outputs": [
    {
     "name": "stdout",
     "output_type": "stream",
     "text": [
      "Total HDD: 37.29999999999999\n"
     ]
    }
   ],
   "source": [
    "print(\"Total HDD:\", total_hdd)\n"
   ]
  },
  {
   "cell_type": "code",
   "execution_count": null,
   "id": "69407156",
   "metadata": {},
   "outputs": [],
   "source": []
  },
  {
   "cell_type": "code",
   "execution_count": null,
   "id": "66269b0c",
   "metadata": {},
   "outputs": [],
   "source": []
  }
 ],
 "metadata": {
  "kernelspec": {
   "display_name": "Python 3 (ipykernel)",
   "language": "python",
   "name": "python3"
  },
  "language_info": {
   "codemirror_mode": {
    "name": "ipython",
    "version": 3
   },
   "file_extension": ".py",
   "mimetype": "text/x-python",
   "name": "python",
   "nbconvert_exporter": "python",
   "pygments_lexer": "ipython3",
   "version": "3.11.5"
  }
 },
 "nbformat": 4,
 "nbformat_minor": 5
}
